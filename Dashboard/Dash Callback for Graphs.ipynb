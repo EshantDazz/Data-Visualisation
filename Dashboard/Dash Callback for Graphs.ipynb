{
 "cells": [
  {
   "cell_type": "markdown",
   "id": "9f19a4db",
   "metadata": {},
   "source": [
    "## <div class='alert alert-success'> Dash Callback for Graphs</div>"
   ]
  },
  {
   "cell_type": "code",
   "execution_count": 1,
   "id": "49b231d0",
   "metadata": {},
   "outputs": [],
   "source": [
    "import pandas as pd\n",
    "df=pd.read_csv('Data.txt')"
   ]
  },
  {
   "cell_type": "code",
   "execution_count": 2,
   "id": "41aacbfd",
   "metadata": {},
   "outputs": [
    {
     "data": {
      "text/html": [
       "<div>\n",
       "<style scoped>\n",
       "    .dataframe tbody tr th:only-of-type {\n",
       "        vertical-align: middle;\n",
       "    }\n",
       "\n",
       "    .dataframe tbody tr th {\n",
       "        vertical-align: top;\n",
       "    }\n",
       "\n",
       "    .dataframe thead th {\n",
       "        text-align: right;\n",
       "    }\n",
       "</style>\n",
       "<table border=\"1\" class=\"dataframe\">\n",
       "  <thead>\n",
       "    <tr style=\"text-align: right;\">\n",
       "      <th></th>\n",
       "      <th>country</th>\n",
       "      <th>year</th>\n",
       "      <th>pop</th>\n",
       "      <th>continent</th>\n",
       "      <th>lifeExp</th>\n",
       "      <th>gdpPercap</th>\n",
       "    </tr>\n",
       "  </thead>\n",
       "  <tbody>\n",
       "    <tr>\n",
       "      <th>0</th>\n",
       "      <td>Afghanistan</td>\n",
       "      <td>1952</td>\n",
       "      <td>8425333.0</td>\n",
       "      <td>Asia</td>\n",
       "      <td>28.801</td>\n",
       "      <td>779.445314</td>\n",
       "    </tr>\n",
       "    <tr>\n",
       "      <th>1</th>\n",
       "      <td>Afghanistan</td>\n",
       "      <td>1957</td>\n",
       "      <td>9240934.0</td>\n",
       "      <td>Asia</td>\n",
       "      <td>30.332</td>\n",
       "      <td>820.853030</td>\n",
       "    </tr>\n",
       "    <tr>\n",
       "      <th>2</th>\n",
       "      <td>Afghanistan</td>\n",
       "      <td>1962</td>\n",
       "      <td>10267083.0</td>\n",
       "      <td>Asia</td>\n",
       "      <td>31.997</td>\n",
       "      <td>853.100710</td>\n",
       "    </tr>\n",
       "    <tr>\n",
       "      <th>3</th>\n",
       "      <td>Afghanistan</td>\n",
       "      <td>1967</td>\n",
       "      <td>11537966.0</td>\n",
       "      <td>Asia</td>\n",
       "      <td>34.020</td>\n",
       "      <td>836.197138</td>\n",
       "    </tr>\n",
       "    <tr>\n",
       "      <th>4</th>\n",
       "      <td>Afghanistan</td>\n",
       "      <td>1972</td>\n",
       "      <td>13079460.0</td>\n",
       "      <td>Asia</td>\n",
       "      <td>36.088</td>\n",
       "      <td>739.981106</td>\n",
       "    </tr>\n",
       "  </tbody>\n",
       "</table>\n",
       "</div>"
      ],
      "text/plain": [
       "       country  year         pop continent  lifeExp   gdpPercap\n",
       "0  Afghanistan  1952   8425333.0      Asia   28.801  779.445314\n",
       "1  Afghanistan  1957   9240934.0      Asia   30.332  820.853030\n",
       "2  Afghanistan  1962  10267083.0      Asia   31.997  853.100710\n",
       "3  Afghanistan  1967  11537966.0      Asia   34.020  836.197138\n",
       "4  Afghanistan  1972  13079460.0      Asia   36.088  739.981106"
      ]
     },
     "execution_count": 2,
     "metadata": {},
     "output_type": "execute_result"
    }
   ],
   "source": [
    "df.head()"
   ]
  },
  {
   "cell_type": "code",
   "execution_count": 3,
   "id": "9c97540a",
   "metadata": {},
   "outputs": [
    {
     "data": {
      "text/plain": [
       "(1704, 6)"
      ]
     },
     "execution_count": 3,
     "metadata": {},
     "output_type": "execute_result"
    }
   ],
   "source": [
    "df.shape"
   ]
  },
  {
   "cell_type": "code",
   "execution_count": null,
   "id": "3bb36f50",
   "metadata": {},
   "outputs": [],
   "source": []
  },
  {
   "cell_type": "code",
   "execution_count": 4,
   "id": "bf4d5945",
   "metadata": {},
   "outputs": [],
   "source": [
    "import dash\n",
    "from dash import html,dcc\n",
    "from dash.dependencies import Input,Output\n",
    "import plotly.graph_objs as go"
   ]
  },
  {
   "cell_type": "code",
   "execution_count": null,
   "id": "23229ffc",
   "metadata": {},
   "outputs": [],
   "source": []
  },
  {
   "cell_type": "markdown",
   "id": "a9fc78df",
   "metadata": {},
   "source": [
    "## Lets start with the main part"
   ]
  },
  {
   "cell_type": "code",
   "execution_count": 5,
   "id": "ef6c5880",
   "metadata": {},
   "outputs": [],
   "source": [
    "app=dash.Dash()"
   ]
  },
  {
   "cell_type": "code",
   "execution_count": 6,
   "id": "d69eddb1",
   "metadata": {},
   "outputs": [],
   "source": [
    "year_options = []\n",
    "for year in df['year'].unique():\n",
    "    year_options.append({'label':str(year),'value':year})\n"
   ]
  },
  {
   "cell_type": "code",
   "execution_count": 7,
   "id": "118f00fd",
   "metadata": {},
   "outputs": [
    {
     "data": {
      "text/plain": [
       "[{'label': '1952', 'value': 1952},\n",
       " {'label': '1957', 'value': 1957},\n",
       " {'label': '1962', 'value': 1962},\n",
       " {'label': '1967', 'value': 1967},\n",
       " {'label': '1972', 'value': 1972},\n",
       " {'label': '1977', 'value': 1977},\n",
       " {'label': '1982', 'value': 1982},\n",
       " {'label': '1987', 'value': 1987},\n",
       " {'label': '1992', 'value': 1992},\n",
       " {'label': '1997', 'value': 1997},\n",
       " {'label': '2002', 'value': 2002},\n",
       " {'label': '2007', 'value': 2007}]"
      ]
     },
     "execution_count": 7,
     "metadata": {},
     "output_type": "execute_result"
    }
   ],
   "source": [
    "year_options"
   ]
  },
  {
   "cell_type": "code",
   "execution_count": null,
   "id": "dbd06cdf",
   "metadata": {},
   "outputs": [],
   "source": []
  },
  {
   "cell_type": "code",
   "execution_count": 14,
   "id": "4b4d2901",
   "metadata": {},
   "outputs": [],
   "source": [
    "app.layout=html.Div([\n",
    "    dcc.Graph(id='graph'),\n",
    "    dcc.Dropdown(id='choose-year',options=year_options,value=df['year'].min()) \n",
    "])"
   ]
  },
  {
   "cell_type": "code",
   "execution_count": 15,
   "id": "96721ead",
   "metadata": {},
   "outputs": [
    {
     "name": "stdout",
     "output_type": "stream",
     "text": [
      "Dash is running on http://127.0.0.1:8050/\n",
      "\n",
      " * Serving Flask app \"__main__\" (lazy loading)\n",
      " * Environment: production\n",
      "\u001b[31m   WARNING: This is a development server. Do not use it in a production deployment.\u001b[0m\n",
      "\u001b[2m   Use a production WSGI server instead.\u001b[0m\n",
      " * Debug mode: off\n"
     ]
    },
    {
     "name": "stderr",
     "output_type": "stream",
     "text": [
      " * Running on http://127.0.0.1:8050/ (Press CTRL+C to quit)\n",
      "127.0.0.1 - - [10/Oct/2022 15:47:51] \"GET / HTTP/1.1\" 200 -\n",
      "127.0.0.1 - - [10/Oct/2022 15:47:51] \"GET /_dash-dependencies HTTP/1.1\" 200 -\n",
      "127.0.0.1 - - [10/Oct/2022 15:47:51] \"GET /_dash-layout HTTP/1.1\" 200 -\n",
      "127.0.0.1 - - [10/Oct/2022 15:47:52] \"GET /_dash-component-suites/dash/dcc/async-graph.js HTTP/1.1\" 304 -\n",
      "127.0.0.1 - - [10/Oct/2022 15:47:52] \"GET /_dash-component-suites/dash/dcc/async-dropdown.js HTTP/1.1\" 304 -\n",
      "127.0.0.1 - - [10/Oct/2022 15:47:52] \"GET /_dash-component-suites/dash/dcc/async-plotlyjs.js HTTP/1.1\" 304 -\n",
      "127.0.0.1 - - [10/Oct/2022 15:47:52] \"POST /_dash-update-component HTTP/1.1\" 200 -\n",
      "127.0.0.1 - - [10/Oct/2022 15:47:54] \"POST /_dash-update-component HTTP/1.1\" 200 -\n"
     ]
    }
   ],
   "source": [
    "@app.callback(Output('graph', 'figure'),\n",
    "              [Input('choose-year', 'value')])\n",
    "def update_figure(selected_year):\n",
    "    filtered_df = df[df['year'] == selected_year]\n",
    "    traces = []\n",
    "    for continent_name in filtered_df['continent'].unique():\n",
    "        df_by_continent = filtered_df[filtered_df['continent'] == continent_name]\n",
    "        traces.append(go.Scatter(\n",
    "            x=df_by_continent['gdpPercap'],\n",
    "            y=df_by_continent['lifeExp'],\n",
    "            text=df_by_continent['country'],\n",
    "            mode='markers',\n",
    "            opacity=0.7,\n",
    "            marker={'size': 15},\n",
    "            name=continent_name\n",
    "        ))\n",
    " \n",
    "    return {\n",
    "        'data': traces,\n",
    "        'layout': go.Layout(\n",
    "            xaxis={'type': 'log', 'title': 'GDP Per Capita'},\n",
    "            yaxis={'title': 'Life Expectancy'},\n",
    "            hovermode='closest'\n",
    "        )\n",
    "    }\n",
    " \n",
    "if __name__ == '__main__':\n",
    "    app.run_server()\n"
   ]
  },
  {
   "cell_type": "code",
   "execution_count": null,
   "id": "9a631088",
   "metadata": {},
   "outputs": [],
   "source": []
  },
  {
   "cell_type": "markdown",
   "id": "1a5afd78",
   "metadata": {},
   "source": [
    "## <font color='green'> Important Points </font> "
   ]
  },
  {
   "cell_type": "markdown",
   "id": "4e931d09",
   "metadata": {},
   "source": [
    "- In this example, the \"value\" property of the Dropdown is the input of the app and the output of the app is the \"figure\" property of the Graph. Whenever the value of the Dropdown changes, Dash calls the callback function update_figure with the new value. The function filters the DataFrame with this new value, constructs a figure object, and returns it to the Dash application."
   ]
  }
 ],
 "metadata": {
  "kernelspec": {
   "display_name": "Python 3 (ipykernel)",
   "language": "python",
   "name": "python3"
  },
  "language_info": {
   "codemirror_mode": {
    "name": "ipython",
    "version": 3
   },
   "file_extension": ".py",
   "mimetype": "text/x-python",
   "name": "python",
   "nbconvert_exporter": "python",
   "pygments_lexer": "ipython3",
   "version": "3.9.12"
  }
 },
 "nbformat": 4,
 "nbformat_minor": 5
}
