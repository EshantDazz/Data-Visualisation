{
 "cells": [
  {
   "cell_type": "code",
   "execution_count": 1,
   "id": "06e9c3e7",
   "metadata": {},
   "outputs": [],
   "source": [
    "import pandas as pd\n",
    "import numpy as np\n",
    "import seaborn as sns\n",
    "import matplotlib.pyplot as plt"
   ]
  },
  {
   "cell_type": "code",
   "execution_count": null,
   "id": "b5f66020",
   "metadata": {},
   "outputs": [],
   "source": []
  },
  {
   "cell_type": "code",
   "execution_count": 2,
   "id": "ef65fc6c",
   "metadata": {},
   "outputs": [],
   "source": [
    "df=pd.read_csv(\"olympics_medals_country_wise.csv\")"
   ]
  },
  {
   "cell_type": "code",
   "execution_count": 3,
   "id": "bbde8148",
   "metadata": {},
   "outputs": [
    {
     "data": {
      "text/html": [
       "<div>\n",
       "<style scoped>\n",
       "    .dataframe tbody tr th:only-of-type {\n",
       "        vertical-align: middle;\n",
       "    }\n",
       "\n",
       "    .dataframe tbody tr th {\n",
       "        vertical-align: top;\n",
       "    }\n",
       "\n",
       "    .dataframe thead th {\n",
       "        text-align: right;\n",
       "    }\n",
       "</style>\n",
       "<table border=\"1\" class=\"dataframe\">\n",
       "  <thead>\n",
       "    <tr style=\"text-align: right;\">\n",
       "      <th></th>\n",
       "      <th>countries</th>\n",
       "      <th>ioc_code</th>\n",
       "      <th>summer_participations</th>\n",
       "      <th>summer_gold</th>\n",
       "      <th>summer_silver</th>\n",
       "      <th>summer_bronze</th>\n",
       "      <th>summer_total</th>\n",
       "      <th>winter_participations</th>\n",
       "      <th>winter_gold</th>\n",
       "      <th>winter_silver</th>\n",
       "      <th>winter_bronze</th>\n",
       "      <th>winter_total</th>\n",
       "      <th>total_participation</th>\n",
       "      <th>total_gold</th>\n",
       "      <th>total_silver</th>\n",
       "      <th>total_bronze</th>\n",
       "      <th>total_total</th>\n",
       "    </tr>\n",
       "  </thead>\n",
       "  <tbody>\n",
       "    <tr>\n",
       "      <th>0</th>\n",
       "      <td>Afghanistan</td>\n",
       "      <td>(AFG)</td>\n",
       "      <td>15</td>\n",
       "      <td>0</td>\n",
       "      <td>0</td>\n",
       "      <td>2</td>\n",
       "      <td>2</td>\n",
       "      <td>0</td>\n",
       "      <td>0</td>\n",
       "      <td>0</td>\n",
       "      <td>0</td>\n",
       "      <td>0</td>\n",
       "      <td>15</td>\n",
       "      <td>0</td>\n",
       "      <td>0</td>\n",
       "      <td>2</td>\n",
       "      <td>2</td>\n",
       "    </tr>\n",
       "    <tr>\n",
       "      <th>1</th>\n",
       "      <td>Algeria</td>\n",
       "      <td>(ALG)</td>\n",
       "      <td>14</td>\n",
       "      <td>5</td>\n",
       "      <td>4</td>\n",
       "      <td>8</td>\n",
       "      <td>17</td>\n",
       "      <td>3</td>\n",
       "      <td>0</td>\n",
       "      <td>0</td>\n",
       "      <td>0</td>\n",
       "      <td>0</td>\n",
       "      <td>17</td>\n",
       "      <td>5</td>\n",
       "      <td>4</td>\n",
       "      <td>8</td>\n",
       "      <td>17</td>\n",
       "    </tr>\n",
       "    <tr>\n",
       "      <th>2</th>\n",
       "      <td>Argentina</td>\n",
       "      <td>(ARG)</td>\n",
       "      <td>25</td>\n",
       "      <td>21</td>\n",
       "      <td>26</td>\n",
       "      <td>30</td>\n",
       "      <td>77</td>\n",
       "      <td>20</td>\n",
       "      <td>0</td>\n",
       "      <td>0</td>\n",
       "      <td>0</td>\n",
       "      <td>0</td>\n",
       "      <td>45</td>\n",
       "      <td>21</td>\n",
       "      <td>26</td>\n",
       "      <td>30</td>\n",
       "      <td>77</td>\n",
       "    </tr>\n",
       "    <tr>\n",
       "      <th>3</th>\n",
       "      <td>Armenia</td>\n",
       "      <td>(ARM)</td>\n",
       "      <td>7</td>\n",
       "      <td>2</td>\n",
       "      <td>8</td>\n",
       "      <td>8</td>\n",
       "      <td>18</td>\n",
       "      <td>8</td>\n",
       "      <td>0</td>\n",
       "      <td>0</td>\n",
       "      <td>0</td>\n",
       "      <td>0</td>\n",
       "      <td>15</td>\n",
       "      <td>2</td>\n",
       "      <td>8</td>\n",
       "      <td>8</td>\n",
       "      <td>18</td>\n",
       "    </tr>\n",
       "    <tr>\n",
       "      <th>4</th>\n",
       "      <td>Australasia</td>\n",
       "      <td>(ANZ)</td>\n",
       "      <td>2</td>\n",
       "      <td>3</td>\n",
       "      <td>4</td>\n",
       "      <td>5</td>\n",
       "      <td>12</td>\n",
       "      <td>0</td>\n",
       "      <td>0</td>\n",
       "      <td>0</td>\n",
       "      <td>0</td>\n",
       "      <td>0</td>\n",
       "      <td>2</td>\n",
       "      <td>3</td>\n",
       "      <td>4</td>\n",
       "      <td>5</td>\n",
       "      <td>12</td>\n",
       "    </tr>\n",
       "  </tbody>\n",
       "</table>\n",
       "</div>"
      ],
      "text/plain": [
       "    countries  ioc_code   summer_participations summer_gold  summer_silver  \\\n",
       "0  Afghanistan     (AFG)                     15           0              0   \n",
       "1      Algeria     (ALG)                     14           5              4   \n",
       "2    Argentina     (ARG)                     25          21             26   \n",
       "3      Armenia     (ARM)                      7           2              8   \n",
       "4  Australasia     (ANZ)                      2           3              4   \n",
       "\n",
       "   summer_bronze summer_total  winter_participations  winter_gold  \\\n",
       "0              2            2                      0            0   \n",
       "1              8           17                      3            0   \n",
       "2             30           77                     20            0   \n",
       "3              8           18                      8            0   \n",
       "4              5           12                      0            0   \n",
       "\n",
       "   winter_silver  winter_bronze  winter_total  total_participation total_gold  \\\n",
       "0              0              0             0                   15          0   \n",
       "1              0              0             0                   17          5   \n",
       "2              0              0             0                   45         21   \n",
       "3              0              0             0                   15          2   \n",
       "4              0              0             0                    2          3   \n",
       "\n",
       "   total_silver  total_bronze total_total   \n",
       "0             0             2            2  \n",
       "1             4             8           17  \n",
       "2            26            30           77  \n",
       "3             8             8           18  \n",
       "4             4             5           12  "
      ]
     },
     "execution_count": 3,
     "metadata": {},
     "output_type": "execute_result"
    }
   ],
   "source": [
    "df.head()"
   ]
  },
  {
   "cell_type": "code",
   "execution_count": 4,
   "id": "55855f7e",
   "metadata": {},
   "outputs": [
    {
     "data": {
      "text/plain": [
       "(156, 17)"
      ]
     },
     "execution_count": 4,
     "metadata": {},
     "output_type": "execute_result"
    }
   ],
   "source": [
    "df.shape"
   ]
  },
  {
   "cell_type": "code",
   "execution_count": 5,
   "id": "c69188c7",
   "metadata": {},
   "outputs": [
    {
     "data": {
      "text/plain": [
       "Index(['countries ', 'ioc_code ', 'summer_participations', 'summer_gold',\n",
       "       'summer_silver', 'summer_bronze', 'summer_total',\n",
       "       'winter_participations', 'winter_gold', 'winter_silver',\n",
       "       'winter_bronze', 'winter_total', 'total_participation', 'total_gold',\n",
       "       'total_silver', 'total_bronze', 'total_total '],\n",
       "      dtype='object')"
      ]
     },
     "execution_count": 5,
     "metadata": {},
     "output_type": "execute_result"
    }
   ],
   "source": [
    "df.columns"
   ]
  },
  {
   "cell_type": "code",
   "execution_count": null,
   "id": "4c91758c",
   "metadata": {},
   "outputs": [],
   "source": []
  },
  {
   "cell_type": "code",
   "execution_count": 6,
   "id": "9454ec92",
   "metadata": {},
   "outputs": [
    {
     "name": "stdout",
     "output_type": "stream",
     "text": [
      "<class 'pandas.core.frame.DataFrame'>\n",
      "RangeIndex: 156 entries, 0 to 155\n",
      "Data columns (total 17 columns):\n",
      " #   Column                 Non-Null Count  Dtype \n",
      "---  ------                 --------------  ----- \n",
      " 0   countries              156 non-null    object\n",
      " 1   ioc_code               156 non-null    object\n",
      " 2   summer_participations  156 non-null    int64 \n",
      " 3   summer_gold            156 non-null    object\n",
      " 4   summer_silver          156 non-null    int64 \n",
      " 5   summer_bronze          156 non-null    int64 \n",
      " 6   summer_total           156 non-null    object\n",
      " 7   winter_participations  156 non-null    int64 \n",
      " 8   winter_gold            156 non-null    int64 \n",
      " 9   winter_silver          156 non-null    int64 \n",
      " 10  winter_bronze          156 non-null    int64 \n",
      " 11  winter_total           156 non-null    int64 \n",
      " 12  total_participation    156 non-null    int64 \n",
      " 13  total_gold             156 non-null    object\n",
      " 14  total_silver           156 non-null    int64 \n",
      " 15  total_bronze           156 non-null    int64 \n",
      " 16  total_total            156 non-null    object\n",
      "dtypes: int64(11), object(6)\n",
      "memory usage: 20.8+ KB\n"
     ]
    }
   ],
   "source": [
    "df.info()"
   ]
  },
  {
   "cell_type": "code",
   "execution_count": 7,
   "id": "50fa8e6e",
   "metadata": {},
   "outputs": [],
   "source": [
    "df.rename(columns = {'total_total ':'total_total'}, inplace = True)"
   ]
  },
  {
   "cell_type": "markdown",
   "id": "4d514557",
   "metadata": {},
   "source": [
    "### Converting df['total_total'] to int"
   ]
  },
  {
   "cell_type": "code",
   "execution_count": 8,
   "id": "ef9ca5d7",
   "metadata": {},
   "outputs": [],
   "source": [
    "k=[]\n",
    "for i in df['total_total']:\n",
    "    i=i.replace(',','')\n",
    "    k.append(i)"
   ]
  },
  {
   "cell_type": "code",
   "execution_count": 9,
   "id": "94f88fdc",
   "metadata": {},
   "outputs": [],
   "source": [
    "df['total_total']=pd.Series(k)"
   ]
  },
  {
   "cell_type": "code",
   "execution_count": 10,
   "id": "37d9db6d",
   "metadata": {},
   "outputs": [],
   "source": [
    "df['total_total']=df['total_total'].astype('int')"
   ]
  },
  {
   "cell_type": "code",
   "execution_count": 11,
   "id": "e490c4b4",
   "metadata": {},
   "outputs": [
    {
     "name": "stdout",
     "output_type": "stream",
     "text": [
      "<class 'pandas.core.frame.DataFrame'>\n",
      "RangeIndex: 156 entries, 0 to 155\n",
      "Data columns (total 17 columns):\n",
      " #   Column                 Non-Null Count  Dtype \n",
      "---  ------                 --------------  ----- \n",
      " 0   countries              156 non-null    object\n",
      " 1   ioc_code               156 non-null    object\n",
      " 2   summer_participations  156 non-null    int64 \n",
      " 3   summer_gold            156 non-null    object\n",
      " 4   summer_silver          156 non-null    int64 \n",
      " 5   summer_bronze          156 non-null    int64 \n",
      " 6   summer_total           156 non-null    object\n",
      " 7   winter_participations  156 non-null    int64 \n",
      " 8   winter_gold            156 non-null    int64 \n",
      " 9   winter_silver          156 non-null    int64 \n",
      " 10  winter_bronze          156 non-null    int64 \n",
      " 11  winter_total           156 non-null    int64 \n",
      " 12  total_participation    156 non-null    int64 \n",
      " 13  total_gold             156 non-null    object\n",
      " 14  total_silver           156 non-null    int64 \n",
      " 15  total_bronze           156 non-null    int64 \n",
      " 16  total_total            156 non-null    int64 \n",
      "dtypes: int64(12), object(5)\n",
      "memory usage: 20.8+ KB\n"
     ]
    }
   ],
   "source": [
    "df.info()"
   ]
  },
  {
   "cell_type": "markdown",
   "id": "50c74152",
   "metadata": {},
   "source": [
    "### Lets do the same thing with other columns"
   ]
  },
  {
   "cell_type": "code",
   "execution_count": 12,
   "id": "4d51a0bb",
   "metadata": {},
   "outputs": [],
   "source": [
    "k=[]\n",
    "for i in df['summer_total']:\n",
    "    i=i.replace(',','')\n",
    "    k.append(i)\n",
    "df['summer_total']=pd.Series(k)\n",
    "df['summer_total']=df['summer_total'].astype('int')\n",
    "\n",
    "k=[]\n",
    "for i in df['summer_gold']:\n",
    "    i=i.replace(',','')\n",
    "    k.append(i)\n",
    "df['summer_gold']=pd.Series(k)\n",
    "df['summer_gold']=df['summer_gold'].astype('int')\n",
    "\n",
    "k=[]\n",
    "for i in df['total_gold']:\n",
    "    i=i.replace(',','')\n",
    "    k.append(i)\n",
    "df['total_gold']=pd.Series(k)\n",
    "df['total_gold']=df['total_gold'].astype('int')"
   ]
  },
  {
   "cell_type": "code",
   "execution_count": 13,
   "id": "67782fda",
   "metadata": {},
   "outputs": [
    {
     "name": "stdout",
     "output_type": "stream",
     "text": [
      "<class 'pandas.core.frame.DataFrame'>\n",
      "RangeIndex: 156 entries, 0 to 155\n",
      "Data columns (total 17 columns):\n",
      " #   Column                 Non-Null Count  Dtype \n",
      "---  ------                 --------------  ----- \n",
      " 0   countries              156 non-null    object\n",
      " 1   ioc_code               156 non-null    object\n",
      " 2   summer_participations  156 non-null    int64 \n",
      " 3   summer_gold            156 non-null    int64 \n",
      " 4   summer_silver          156 non-null    int64 \n",
      " 5   summer_bronze          156 non-null    int64 \n",
      " 6   summer_total           156 non-null    int64 \n",
      " 7   winter_participations  156 non-null    int64 \n",
      " 8   winter_gold            156 non-null    int64 \n",
      " 9   winter_silver          156 non-null    int64 \n",
      " 10  winter_bronze          156 non-null    int64 \n",
      " 11  winter_total           156 non-null    int64 \n",
      " 12  total_participation    156 non-null    int64 \n",
      " 13  total_gold             156 non-null    int64 \n",
      " 14  total_silver           156 non-null    int64 \n",
      " 15  total_bronze           156 non-null    int64 \n",
      " 16  total_total            156 non-null    int64 \n",
      "dtypes: int64(15), object(2)\n",
      "memory usage: 20.8+ KB\n"
     ]
    }
   ],
   "source": [
    "df.info()"
   ]
  },
  {
   "cell_type": "markdown",
   "id": "39868930",
   "metadata": {},
   "source": [
    "### <font color='green'> Perfect </font>"
   ]
  },
  {
   "cell_type": "code",
   "execution_count": null,
   "id": "a46cd245",
   "metadata": {},
   "outputs": [],
   "source": []
  },
  {
   "cell_type": "code",
   "execution_count": 14,
   "id": "d51f2201",
   "metadata": {},
   "outputs": [
    {
     "data": {
      "text/html": [
       "<div>\n",
       "<style scoped>\n",
       "    .dataframe tbody tr th:only-of-type {\n",
       "        vertical-align: middle;\n",
       "    }\n",
       "\n",
       "    .dataframe tbody tr th {\n",
       "        vertical-align: top;\n",
       "    }\n",
       "\n",
       "    .dataframe thead th {\n",
       "        text-align: right;\n",
       "    }\n",
       "</style>\n",
       "<table border=\"1\" class=\"dataframe\">\n",
       "  <thead>\n",
       "    <tr style=\"text-align: right;\">\n",
       "      <th></th>\n",
       "      <th>summer_participations</th>\n",
       "      <th>summer_gold</th>\n",
       "      <th>summer_silver</th>\n",
       "      <th>summer_bronze</th>\n",
       "      <th>summer_total</th>\n",
       "      <th>winter_participations</th>\n",
       "      <th>winter_gold</th>\n",
       "      <th>winter_silver</th>\n",
       "      <th>winter_bronze</th>\n",
       "      <th>winter_total</th>\n",
       "      <th>total_participation</th>\n",
       "      <th>total_gold</th>\n",
       "      <th>total_silver</th>\n",
       "      <th>total_bronze</th>\n",
       "      <th>total_total</th>\n",
       "    </tr>\n",
       "  </thead>\n",
       "  <tbody>\n",
       "    <tr>\n",
       "      <th>count</th>\n",
       "      <td>156.000000</td>\n",
       "      <td>156.00000</td>\n",
       "      <td>156.000000</td>\n",
       "      <td>156.000000</td>\n",
       "      <td>156.000000</td>\n",
       "      <td>156.000000</td>\n",
       "      <td>156.00000</td>\n",
       "      <td>156.000000</td>\n",
       "      <td>156.000000</td>\n",
       "      <td>156.000000</td>\n",
       "      <td>156.000000</td>\n",
       "      <td>156.000000</td>\n",
       "      <td>156.000000</td>\n",
       "      <td>156.000000</td>\n",
       "      <td>156.000000</td>\n",
       "    </tr>\n",
       "    <tr>\n",
       "      <th>mean</th>\n",
       "      <td>14.673077</td>\n",
       "      <td>35.00641</td>\n",
       "      <td>34.782051</td>\n",
       "      <td>37.775641</td>\n",
       "      <td>107.564103</td>\n",
       "      <td>7.314103</td>\n",
       "      <td>7.50641</td>\n",
       "      <td>7.487179</td>\n",
       "      <td>7.442308</td>\n",
       "      <td>22.435897</td>\n",
       "      <td>21.987179</td>\n",
       "      <td>42.512821</td>\n",
       "      <td>42.269231</td>\n",
       "      <td>45.217949</td>\n",
       "      <td>130.000000</td>\n",
       "    </tr>\n",
       "    <tr>\n",
       "      <th>std</th>\n",
       "      <td>7.432417</td>\n",
       "      <td>102.40996</td>\n",
       "      <td>86.085726</td>\n",
       "      <td>83.157105</td>\n",
       "      <td>269.793115</td>\n",
       "      <td>7.900024</td>\n",
       "      <td>22.23264</td>\n",
       "      <td>21.431808</td>\n",
       "      <td>20.126773</td>\n",
       "      <td>63.293498</td>\n",
       "      <td>13.948286</td>\n",
       "      <td>117.545461</td>\n",
       "      <td>101.547405</td>\n",
       "      <td>97.571102</td>\n",
       "      <td>314.843002</td>\n",
       "    </tr>\n",
       "    <tr>\n",
       "      <th>min</th>\n",
       "      <td>0.000000</td>\n",
       "      <td>0.00000</td>\n",
       "      <td>0.000000</td>\n",
       "      <td>0.000000</td>\n",
       "      <td>0.000000</td>\n",
       "      <td>0.000000</td>\n",
       "      <td>0.00000</td>\n",
       "      <td>0.000000</td>\n",
       "      <td>0.000000</td>\n",
       "      <td>0.000000</td>\n",
       "      <td>1.000000</td>\n",
       "      <td>0.000000</td>\n",
       "      <td>0.000000</td>\n",
       "      <td>0.000000</td>\n",
       "      <td>1.000000</td>\n",
       "    </tr>\n",
       "    <tr>\n",
       "      <th>25%</th>\n",
       "      <td>9.750000</td>\n",
       "      <td>0.00000</td>\n",
       "      <td>1.000000</td>\n",
       "      <td>1.000000</td>\n",
       "      <td>3.000000</td>\n",
       "      <td>0.000000</td>\n",
       "      <td>0.00000</td>\n",
       "      <td>0.000000</td>\n",
       "      <td>0.000000</td>\n",
       "      <td>0.000000</td>\n",
       "      <td>13.000000</td>\n",
       "      <td>0.000000</td>\n",
       "      <td>1.000000</td>\n",
       "      <td>1.000000</td>\n",
       "      <td>3.000000</td>\n",
       "    </tr>\n",
       "    <tr>\n",
       "      <th>50%</th>\n",
       "      <td>15.000000</td>\n",
       "      <td>3.00000</td>\n",
       "      <td>5.000000</td>\n",
       "      <td>6.000000</td>\n",
       "      <td>13.500000</td>\n",
       "      <td>4.500000</td>\n",
       "      <td>0.00000</td>\n",
       "      <td>0.000000</td>\n",
       "      <td>0.000000</td>\n",
       "      <td>0.000000</td>\n",
       "      <td>17.000000</td>\n",
       "      <td>3.000000</td>\n",
       "      <td>5.000000</td>\n",
       "      <td>7.500000</td>\n",
       "      <td>14.500000</td>\n",
       "    </tr>\n",
       "    <tr>\n",
       "      <th>75%</th>\n",
       "      <td>19.000000</td>\n",
       "      <td>24.50000</td>\n",
       "      <td>29.250000</td>\n",
       "      <td>31.250000</td>\n",
       "      <td>85.500000</td>\n",
       "      <td>11.000000</td>\n",
       "      <td>1.00000</td>\n",
       "      <td>2.000000</td>\n",
       "      <td>2.000000</td>\n",
       "      <td>6.000000</td>\n",
       "      <td>29.000000</td>\n",
       "      <td>26.250000</td>\n",
       "      <td>33.500000</td>\n",
       "      <td>37.000000</td>\n",
       "      <td>101.500000</td>\n",
       "    </tr>\n",
       "    <tr>\n",
       "      <th>max</th>\n",
       "      <td>29.000000</td>\n",
       "      <td>1060.00000</td>\n",
       "      <td>831.000000</td>\n",
       "      <td>738.000000</td>\n",
       "      <td>2629.000000</td>\n",
       "      <td>24.000000</td>\n",
       "      <td>148.00000</td>\n",
       "      <td>133.000000</td>\n",
       "      <td>124.000000</td>\n",
       "      <td>405.000000</td>\n",
       "      <td>53.000000</td>\n",
       "      <td>1173.000000</td>\n",
       "      <td>953.000000</td>\n",
       "      <td>833.000000</td>\n",
       "      <td>2959.000000</td>\n",
       "    </tr>\n",
       "  </tbody>\n",
       "</table>\n",
       "</div>"
      ],
      "text/plain": [
       "       summer_participations  summer_gold  summer_silver  summer_bronze  \\\n",
       "count             156.000000    156.00000     156.000000     156.000000   \n",
       "mean               14.673077     35.00641      34.782051      37.775641   \n",
       "std                 7.432417    102.40996      86.085726      83.157105   \n",
       "min                 0.000000      0.00000       0.000000       0.000000   \n",
       "25%                 9.750000      0.00000       1.000000       1.000000   \n",
       "50%                15.000000      3.00000       5.000000       6.000000   \n",
       "75%                19.000000     24.50000      29.250000      31.250000   \n",
       "max                29.000000   1060.00000     831.000000     738.000000   \n",
       "\n",
       "       summer_total  winter_participations  winter_gold  winter_silver  \\\n",
       "count    156.000000             156.000000    156.00000     156.000000   \n",
       "mean     107.564103               7.314103      7.50641       7.487179   \n",
       "std      269.793115               7.900024     22.23264      21.431808   \n",
       "min        0.000000               0.000000      0.00000       0.000000   \n",
       "25%        3.000000               0.000000      0.00000       0.000000   \n",
       "50%       13.500000               4.500000      0.00000       0.000000   \n",
       "75%       85.500000              11.000000      1.00000       2.000000   \n",
       "max     2629.000000              24.000000    148.00000     133.000000   \n",
       "\n",
       "       winter_bronze  winter_total  total_participation   total_gold  \\\n",
       "count     156.000000    156.000000           156.000000   156.000000   \n",
       "mean        7.442308     22.435897            21.987179    42.512821   \n",
       "std        20.126773     63.293498            13.948286   117.545461   \n",
       "min         0.000000      0.000000             1.000000     0.000000   \n",
       "25%         0.000000      0.000000            13.000000     0.000000   \n",
       "50%         0.000000      0.000000            17.000000     3.000000   \n",
       "75%         2.000000      6.000000            29.000000    26.250000   \n",
       "max       124.000000    405.000000            53.000000  1173.000000   \n",
       "\n",
       "       total_silver  total_bronze  total_total  \n",
       "count    156.000000    156.000000   156.000000  \n",
       "mean      42.269231     45.217949   130.000000  \n",
       "std      101.547405     97.571102   314.843002  \n",
       "min        0.000000      0.000000     1.000000  \n",
       "25%        1.000000      1.000000     3.000000  \n",
       "50%        5.000000      7.500000    14.500000  \n",
       "75%       33.500000     37.000000   101.500000  \n",
       "max      953.000000    833.000000  2959.000000  "
      ]
     },
     "execution_count": 14,
     "metadata": {},
     "output_type": "execute_result"
    }
   ],
   "source": [
    "df.describe()"
   ]
  },
  {
   "cell_type": "code",
   "execution_count": null,
   "id": "1d2bfe1c",
   "metadata": {},
   "outputs": [],
   "source": []
  },
  {
   "cell_type": "code",
   "execution_count": 15,
   "id": "21f28134",
   "metadata": {},
   "outputs": [
    {
     "data": {
      "text/plain": [
       "countries                0\n",
       "ioc_code                 0\n",
       "summer_participations    0\n",
       "summer_gold              0\n",
       "summer_silver            0\n",
       "summer_bronze            0\n",
       "summer_total             0\n",
       "winter_participations    0\n",
       "winter_gold              0\n",
       "winter_silver            0\n",
       "winter_bronze            0\n",
       "winter_total             0\n",
       "total_participation      0\n",
       "total_gold               0\n",
       "total_silver             0\n",
       "total_bronze             0\n",
       "total_total              0\n",
       "dtype: int64"
      ]
     },
     "execution_count": 15,
     "metadata": {},
     "output_type": "execute_result"
    }
   ],
   "source": [
    "df.isnull().sum()"
   ]
  },
  {
   "cell_type": "code",
   "execution_count": null,
   "id": "a17d440d",
   "metadata": {},
   "outputs": [],
   "source": []
  },
  {
   "cell_type": "markdown",
   "id": "ad6ef927",
   "metadata": {},
   "source": [
    "### So we do not need to handle missing Values"
   ]
  },
  {
   "cell_type": "code",
   "execution_count": null,
   "id": "31f4ce34",
   "metadata": {},
   "outputs": [],
   "source": []
  },
  {
   "cell_type": "markdown",
   "id": "cc870599",
   "metadata": {},
   "source": [
    "# <div class='alert alert-info'> Lets do some analysis </div>"
   ]
  },
  {
   "cell_type": "code",
   "execution_count": 16,
   "id": "8648d1d5",
   "metadata": {},
   "outputs": [
    {
     "data": {
      "text/html": [
       "<div>\n",
       "<style scoped>\n",
       "    .dataframe tbody tr th:only-of-type {\n",
       "        vertical-align: middle;\n",
       "    }\n",
       "\n",
       "    .dataframe tbody tr th {\n",
       "        vertical-align: top;\n",
       "    }\n",
       "\n",
       "    .dataframe thead th {\n",
       "        text-align: right;\n",
       "    }\n",
       "</style>\n",
       "<table border=\"1\" class=\"dataframe\">\n",
       "  <thead>\n",
       "    <tr style=\"text-align: right;\">\n",
       "      <th></th>\n",
       "      <th>countries</th>\n",
       "      <th>ioc_code</th>\n",
       "      <th>summer_participations</th>\n",
       "      <th>summer_gold</th>\n",
       "      <th>summer_silver</th>\n",
       "      <th>summer_bronze</th>\n",
       "      <th>summer_total</th>\n",
       "      <th>winter_participations</th>\n",
       "      <th>winter_gold</th>\n",
       "      <th>winter_silver</th>\n",
       "      <th>winter_bronze</th>\n",
       "      <th>winter_total</th>\n",
       "      <th>total_participation</th>\n",
       "      <th>total_gold</th>\n",
       "      <th>total_silver</th>\n",
       "      <th>total_bronze</th>\n",
       "      <th>total_total</th>\n",
       "    </tr>\n",
       "  </thead>\n",
       "  <tbody>\n",
       "    <tr>\n",
       "      <th>0</th>\n",
       "      <td>Afghanistan</td>\n",
       "      <td>(AFG)</td>\n",
       "      <td>15</td>\n",
       "      <td>0</td>\n",
       "      <td>0</td>\n",
       "      <td>2</td>\n",
       "      <td>2</td>\n",
       "      <td>0</td>\n",
       "      <td>0</td>\n",
       "      <td>0</td>\n",
       "      <td>0</td>\n",
       "      <td>0</td>\n",
       "      <td>15</td>\n",
       "      <td>0</td>\n",
       "      <td>0</td>\n",
       "      <td>2</td>\n",
       "      <td>2</td>\n",
       "    </tr>\n",
       "    <tr>\n",
       "      <th>1</th>\n",
       "      <td>Algeria</td>\n",
       "      <td>(ALG)</td>\n",
       "      <td>14</td>\n",
       "      <td>5</td>\n",
       "      <td>4</td>\n",
       "      <td>8</td>\n",
       "      <td>17</td>\n",
       "      <td>3</td>\n",
       "      <td>0</td>\n",
       "      <td>0</td>\n",
       "      <td>0</td>\n",
       "      <td>0</td>\n",
       "      <td>17</td>\n",
       "      <td>5</td>\n",
       "      <td>4</td>\n",
       "      <td>8</td>\n",
       "      <td>17</td>\n",
       "    </tr>\n",
       "    <tr>\n",
       "      <th>2</th>\n",
       "      <td>Argentina</td>\n",
       "      <td>(ARG)</td>\n",
       "      <td>25</td>\n",
       "      <td>21</td>\n",
       "      <td>26</td>\n",
       "      <td>30</td>\n",
       "      <td>77</td>\n",
       "      <td>20</td>\n",
       "      <td>0</td>\n",
       "      <td>0</td>\n",
       "      <td>0</td>\n",
       "      <td>0</td>\n",
       "      <td>45</td>\n",
       "      <td>21</td>\n",
       "      <td>26</td>\n",
       "      <td>30</td>\n",
       "      <td>77</td>\n",
       "    </tr>\n",
       "    <tr>\n",
       "      <th>3</th>\n",
       "      <td>Armenia</td>\n",
       "      <td>(ARM)</td>\n",
       "      <td>7</td>\n",
       "      <td>2</td>\n",
       "      <td>8</td>\n",
       "      <td>8</td>\n",
       "      <td>18</td>\n",
       "      <td>8</td>\n",
       "      <td>0</td>\n",
       "      <td>0</td>\n",
       "      <td>0</td>\n",
       "      <td>0</td>\n",
       "      <td>15</td>\n",
       "      <td>2</td>\n",
       "      <td>8</td>\n",
       "      <td>8</td>\n",
       "      <td>18</td>\n",
       "    </tr>\n",
       "    <tr>\n",
       "      <th>4</th>\n",
       "      <td>Australasia</td>\n",
       "      <td>(ANZ)</td>\n",
       "      <td>2</td>\n",
       "      <td>3</td>\n",
       "      <td>4</td>\n",
       "      <td>5</td>\n",
       "      <td>12</td>\n",
       "      <td>0</td>\n",
       "      <td>0</td>\n",
       "      <td>0</td>\n",
       "      <td>0</td>\n",
       "      <td>0</td>\n",
       "      <td>2</td>\n",
       "      <td>3</td>\n",
       "      <td>4</td>\n",
       "      <td>5</td>\n",
       "      <td>12</td>\n",
       "    </tr>\n",
       "  </tbody>\n",
       "</table>\n",
       "</div>"
      ],
      "text/plain": [
       "    countries  ioc_code   summer_participations  summer_gold  summer_silver  \\\n",
       "0  Afghanistan     (AFG)                     15            0              0   \n",
       "1      Algeria     (ALG)                     14            5              4   \n",
       "2    Argentina     (ARG)                     25           21             26   \n",
       "3      Armenia     (ARM)                      7            2              8   \n",
       "4  Australasia     (ANZ)                      2            3              4   \n",
       "\n",
       "   summer_bronze  summer_total  winter_participations  winter_gold  \\\n",
       "0              2             2                      0            0   \n",
       "1              8            17                      3            0   \n",
       "2             30            77                     20            0   \n",
       "3              8            18                      8            0   \n",
       "4              5            12                      0            0   \n",
       "\n",
       "   winter_silver  winter_bronze  winter_total  total_participation  \\\n",
       "0              0              0             0                   15   \n",
       "1              0              0             0                   17   \n",
       "2              0              0             0                   45   \n",
       "3              0              0             0                   15   \n",
       "4              0              0             0                    2   \n",
       "\n",
       "   total_gold  total_silver  total_bronze  total_total  \n",
       "0           0             0             2            2  \n",
       "1           5             4             8           17  \n",
       "2          21            26            30           77  \n",
       "3           2             8             8           18  \n",
       "4           3             4             5           12  "
      ]
     },
     "execution_count": 16,
     "metadata": {},
     "output_type": "execute_result"
    }
   ],
   "source": [
    "df.head()"
   ]
  },
  {
   "cell_type": "code",
   "execution_count": 17,
   "id": "f4c7ff56",
   "metadata": {},
   "outputs": [],
   "source": [
    "df.rename(columns = {'countries ':'countries'}, inplace = True)"
   ]
  },
  {
   "cell_type": "markdown",
   "id": "f45bb897",
   "metadata": {},
   "source": [
    "## Lets see which Top 7 Country has won most number of medals (total_total)"
   ]
  },
  {
   "cell_type": "code",
   "execution_count": 18,
   "id": "30ffdf40",
   "metadata": {},
   "outputs": [
    {
     "data": {
      "image/png": "[encoded data removed]",
      "text/plain": [
       "<Figure size 1080x576 with 1 Axes>"
      ]
     },
     "metadata": {
      "needs_background": "light"
     },
     "output_type": "display_data"
    }
   ],
   "source": [
    "df.groupby('countries')['total_total'].sum().sort_values(ascending=False).head(7).plot.bar(figsize=(15,8));"
   ]
  },
  {
   "cell_type": "code",
   "execution_count": null,
   "id": "75c4c760",
   "metadata": {},
   "outputs": [],
   "source": []
  },
  {
   "cell_type": "markdown",
   "id": "e839c7fb",
   "metadata": {},
   "source": [
    "##  Lets see which Country has won the maximum Gold(top 5)"
   ]
  },
  {
   "cell_type": "code",
   "execution_count": 19,
   "id": "d0f2ab37",
   "metadata": {},
   "outputs": [
    {
     "data": {
      "text/plain": [
       "<AxesSubplot: xlabel='countries'>"
      ]
     },
     "execution_count": 19,
     "metadata": {},
     "output_type": "execute_result"
    },
    {
     "data": {
      "image/png": "[encoded data removed]",
      "text/plain": [
       "<Figure size 1080x576 with 1 Axes>"
      ]
     },
     "metadata": {
      "needs_background": "light"
     },
     "output_type": "display_data"
    }
   ],
   "source": [
    "df.groupby('countries')['total_gold'].sum().sort_values(ascending=False).head().plot.bar(figsize=(15,8))"
   ]
  },
  {
   "cell_type": "code",
   "execution_count": null,
   "id": "d974d027",
   "metadata": {},
   "outputs": [],
   "source": []
  },
  {
   "cell_type": "markdown",
   "id": "2f276669",
   "metadata": {},
   "source": [
    "## Lets look at the correlation"
   ]
  },
  {
   "cell_type": "code",
   "execution_count": 20,
   "id": "5e15a9ba",
   "metadata": {},
   "outputs": [
    {
     "name": "stderr",
     "output_type": "stream",
     "text": [
      "/var/folders/4d/gf6xkqsd5tx6m_zltry403dc0000gn/T/ipykernel_1385/3014688087.py:2: FutureWarning: The default value of numeric_only in DataFrame.corr is deprecated. In a future version, it will default to False. Select only valid columns or specify the value of numeric_only to silence this warning.\n",
      "  sns.heatmap(df.corr(),annot=True,linewidth=.2,ax=ax)\n"
     ]
    },
    {
     "data": {
      "image/png": "[encoded data removed]",
      "text/plain": [
       "<Figure size 1080x648 with 2 Axes>"
      ]
     },
     "metadata": {
      "needs_background": "light"
     },
     "output_type": "display_data"
    }
   ],
   "source": [
    "fig,ax = plt.subplots(figsize=(15,9))\n",
    "sns.heatmap(df.corr(),annot=True,linewidth=.2,ax=ax)\n",
    "plt.xticks(rotation=90)\n",
    "plt.show()"
   ]
  },
  {
   "cell_type": "code",
   "execution_count": null,
   "id": "decb9e55",
   "metadata": {},
   "outputs": [],
   "source": []
  },
  {
   "cell_type": "code",
   "execution_count": null,
   "id": "506ca81e",
   "metadata": {},
   "outputs": [],
   "source": []
  },
  {
   "cell_type": "markdown",
   "id": "293b6ad0",
   "metadata": {},
   "source": [
    "#  <div class='alert alert-warning'> Advance Data Visualisation with Dashboard </div>\n"
   ]
  },
  {
   "cell_type": "markdown",
   "id": "7bfcae3b",
   "metadata": {},
   "source": [
    "## Lets create a Dashboard to see the correlation based on our own choice"
   ]
  },
  {
   "cell_type": "code",
   "execution_count": 21,
   "id": "8e470d44",
   "metadata": {},
   "outputs": [],
   "source": [
    "import dash\n",
    "from dash import html,dcc\n",
    "from dash.dependencies import Input, Output\n",
    "import plotly.graph_objs as go"
   ]
  },
  {
   "cell_type": "code",
   "execution_count": 22,
   "id": "43cbc84b",
   "metadata": {},
   "outputs": [],
   "source": [
    "app = dash.Dash()\n",
    "\n",
    " \n",
    "features = df.columns\n",
    " \n",
    "app.layout = html.Div([\n",
    "    html.Div([\n",
    "        html.Div([\n",
    "            dcc.Dropdown(\n",
    "                id='xaxis',\n",
    "                options=[{'label': i, 'value': i} for i in features],\n",
    "                value='summer_silver'\n",
    "            )\n",
    "        ],\n",
    "        style={'width': '48%', 'display': 'inline-block'}),\n",
    " \n",
    "        html.Div([\n",
    "            dcc.Dropdown(\n",
    "                id='yaxis',\n",
    "                options=[{'label': i, 'value': i} for i in features],\n",
    "                value='total_total'\n",
    "            )\n",
    "        ],style={'width': '48%', 'float': 'right', 'display': 'inline-block'})\n",
    "    ]),\n",
    " \n",
    "    dcc.Graph(id='feature-graphic')\n",
    "], style={'padding':10})\n",
    " \n"
   ]
  },
  {
   "cell_type": "code",
   "execution_count": 23,
   "id": "cb7bb8d7",
   "metadata": {},
   "outputs": [
    {
     "name": "stdout",
     "output_type": "stream",
     "text": [
      "Dash is running on http://127.0.0.1:8050/\n",
      "\n",
      " * Serving Flask app '__main__'\n",
      " * Debug mode: off\n"
     ]
    },
    {
     "name": "stderr",
     "output_type": "stream",
     "text": [
      "WARNING: This is a development server. Do not use it in a production deployment. Use a production WSGI server instead.\n",
      " * Running on http://127.0.0.1:8050\n",
      "Press CTRL+C to quit\n",
      "127.0.0.1 - - [21/Oct/2022 17:34:36] \"GET / HTTP/1.1\" 200 -\n",
      "127.0.0.1 - - [21/Oct/2022 17:34:36] \"GET /_dash-component-suites/dash/dcc/async-graph.js HTTP/1.1\" 304 -\n",
      "127.0.0.1 - - [21/Oct/2022 17:34:36] \"GET /_dash-component-suites/dash/dcc/async-dropdown.js HTTP/1.1\" 304 -\n",
      "127.0.0.1 - - [21/Oct/2022 17:34:36] \"GET /_dash-component-suites/dash/dcc/async-plotlyjs.js HTTP/1.1\" 304 -\n",
      "127.0.0.1 - - [21/Oct/2022 17:34:36] \"GET /_dash-layout HTTP/1.1\" 200 -\n",
      "127.0.0.1 - - [21/Oct/2022 17:34:36] \"GET /_dash-dependencies HTTP/1.1\" 200 -\n",
      "127.0.0.1 - - [21/Oct/2022 17:34:36] \"POST /_dash-update-component HTTP/1.1\" 200 -\n",
      "127.0.0.1 - - [21/Oct/2022 17:34:39] \"POST /_dash-update-component HTTP/1.1\" 200 -\n",
      "127.0.0.1 - - [21/Oct/2022 17:34:41] \"POST /_dash-update-component HTTP/1.1\" 200 -\n",
      "127.0.0.1 - - [21/Oct/2022 17:34:42] \"POST /_dash-update-component HTTP/1.1\" 200 -\n"
     ]
    }
   ],
   "source": [
    "@app.callback(\n",
    "    Output('feature-graphic', 'figure'),\n",
    "    [Input('xaxis', 'value'),\n",
    "     Input('yaxis', 'value')])\n",
    "\n",
    "def update_graph(xaxis_name, yaxis_name):\n",
    "    return {\n",
    "        'data': [go.Scatter(\n",
    "            x=df[xaxis_name],\n",
    "            y=df[yaxis_name],\n",
    "            mode='markers',\n",
    "            marker={\n",
    "                'size': 15,\n",
    "                'opacity': 0.5,\n",
    "                'line': {'width': 0.5, 'color': 'white'}\n",
    "            }\n",
    "        )],\n",
    "        'layout': go.Layout(\n",
    "            xaxis={'title': xaxis_name},\n",
    "            yaxis={'title': yaxis_name},\n",
    "            margin={'l': 40, 'b': 40, 't': 10, 'r': 0},\n",
    "            hovermode='closest'\n",
    "        )\n",
    "    }\n",
    " \n",
    "if __name__ == '__main__':\n",
    "    app.run_server()\n"
   ]
  }
 ],
 "metadata": {
  "kernelspec": {
   "display_name": "Python 3 (ipykernel)",
   "language": "python",
   "name": "python3"
  },
  "language_info": {
   "codemirror_mode": {
    "name": "ipython",
    "version": 3
   },
   "file_extension": ".py",
   "mimetype": "text/x-python",
   "name": "python",
   "nbconvert_exporter": "python",
   "pygments_lexer": "ipython3",
   "version": "3.9.12"
  }
 },
 "nbformat": 4,
 "nbformat_minor": 5
}
