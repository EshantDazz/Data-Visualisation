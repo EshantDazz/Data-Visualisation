{
 "cells": [
  {
   "cell_type": "markdown",
   "id": "30c8ba21",
   "metadata": {},
   "source": [
    "# <div class='alert alert-info'> Single Callback function</div>"
   ]
  },
  {
   "cell_type": "markdown",
   "id": "49639ed6",
   "metadata": {},
   "source": [
    "Connecting Components with Callbacks\n"
   ]
  },
  {
   "cell_type": "code",
   "execution_count": null,
   "id": "da4eb6d8",
   "metadata": {},
   "outputs": [],
   "source": []
  },
  {
   "cell_type": "code",
   "execution_count": 7,
   "id": "36a0153e",
   "metadata": {},
   "outputs": [],
   "source": [
    "import dash\n",
    "from dash import html,dcc"
   ]
  },
  {
   "cell_type": "code",
   "execution_count": 8,
   "id": "d3cbce7c",
   "metadata": {},
   "outputs": [],
   "source": [
    "from dash.dependencies import Input,Output"
   ]
  },
  {
   "cell_type": "code",
   "execution_count": 9,
   "id": "ff7198a5",
   "metadata": {},
   "outputs": [],
   "source": [
    "app=dash.Dash()"
   ]
  },
  {
   "cell_type": "code",
   "execution_count": 10,
   "id": "74215ea6",
   "metadata": {},
   "outputs": [
    {
     "name": "stdout",
     "output_type": "stream",
     "text": [
      "Dash is running on http://127.0.0.1:8050/\n",
      "\n",
      "Dash is running on http://127.0.0.1:8050/\n",
      "\n",
      " * Serving Flask app \"__main__\" (lazy loading)\n",
      " * Environment: production\n",
      "\u001b[31m   WARNING: This is a development server. Do not use it in a production deployment.\u001b[0m\n",
      "\u001b[2m   Use a production WSGI server instead.\u001b[0m\n",
      " * Debug mode: off\n"
     ]
    },
    {
     "name": "stderr",
     "output_type": "stream",
     "text": [
      " * Running on http://127.0.0.1:8050/ (Press CTRL+C to quit)\n",
      "127.0.0.1 - - [10/Oct/2022 14:05:02] \"GET / HTTP/1.1\" 200 -\n",
      "127.0.0.1 - - [10/Oct/2022 14:05:02] \"GET /_dash-layout HTTP/1.1\" 200 -\n",
      "127.0.0.1 - - [10/Oct/2022 14:05:02] \"GET /_dash-dependencies HTTP/1.1\" 200 -\n",
      "127.0.0.1 - - [10/Oct/2022 14:05:02] \"POST /_dash-update-component HTTP/1.1\" 200 -\n",
      "127.0.0.1 - - [10/Oct/2022 14:05:04] \"POST /_dash-update-component HTTP/1.1\" 200 -\n",
      "127.0.0.1 - - [10/Oct/2022 14:05:04] \"POST /_dash-update-component HTTP/1.1\" 200 -\n",
      "127.0.0.1 - - [10/Oct/2022 14:05:04] \"POST /_dash-update-component HTTP/1.1\" 200 -\n",
      "127.0.0.1 - - [10/Oct/2022 14:05:04] \"POST /_dash-update-component HTTP/1.1\" 200 -\n",
      "127.0.0.1 - - [10/Oct/2022 14:05:04] \"POST /_dash-update-component HTTP/1.1\" 200 -\n",
      "127.0.0.1 - - [10/Oct/2022 14:05:04] \"POST /_dash-update-component HTTP/1.1\" 200 -\n",
      "127.0.0.1 - - [10/Oct/2022 14:05:04] \"POST /_dash-update-component HTTP/1.1\" 200 -\n",
      "127.0.0.1 - - [10/Oct/2022 14:05:05] \"POST /_dash-update-component HTTP/1.1\" 200 -\n",
      "127.0.0.1 - - [10/Oct/2022 14:05:05] \"POST /_dash-update-component HTTP/1.1\" 200 -\n",
      "127.0.0.1 - - [10/Oct/2022 14:05:05] \"POST /_dash-update-component HTTP/1.1\" 200 -\n",
      "127.0.0.1 - - [10/Oct/2022 14:05:05] \"POST /_dash-update-component HTTP/1.1\" 200 -\n",
      "127.0.0.1 - - [10/Oct/2022 14:05:05] \"POST /_dash-update-component HTTP/1.1\" 200 -\n",
      "127.0.0.1 - - [10/Oct/2022 14:05:06] \"POST /_dash-update-component HTTP/1.1\" 200 -\n",
      "127.0.0.1 - - [10/Oct/2022 14:05:06] \"POST /_dash-update-component HTTP/1.1\" 200 -\n",
      "127.0.0.1 - - [10/Oct/2022 14:05:06] \"POST /_dash-update-component HTTP/1.1\" 200 -\n"
     ]
    }
   ],
   "source": [
    "  app.layout=html.Div([\n",
    "    dcc.Input(id='First-id',value='Initial Text',type='text'),\n",
    "    html.Div(id='First-div')\n",
    "])\n",
    "\n",
    "@app.callback(\n",
    "    Output(component_id='First-div', component_property='children'),\n",
    "    [Input(component_id='First-id', component_property='value')]\n",
    ")\n",
    "\n",
    "\n",
    "def update_output_div(input_value):\n",
    "    return f\"You have entered {input_value}\"\n",
    "\n",
    "if __name__ == '__main__':\n",
    "    app.run_server() "
   ]
  },
  {
   "cell_type": "code",
   "execution_count": null,
   "id": "2793295e",
   "metadata": {},
   "outputs": [],
   "source": []
  },
  {
   "cell_type": "code",
   "execution_count": null,
   "id": "9d51f00d",
   "metadata": {},
   "outputs": [],
   "source": []
  },
  {
   "cell_type": "markdown",
   "id": "d7ccdbc4",
   "metadata": {},
   "source": [
    "## <font color='green'> Points to Note </font>"
   ]
  },
  {
   "cell_type": "markdown",
   "id": "f90efe4d",
   "metadata": {},
   "source": [
    "- app.callback is called as a decorator function over update_output_div. The \"inputs\" and \"outputs\" of our application interface are described declaratively through the app.callback decorator.\n",
    "\n",
    "- Inside @app.callback, Output and Input are abbreviated forms of dash.dependencies.Output and dash.dependencies.Input. Note how we imported them from dash.dependencies by name.\n",
    "\n",
    "- In Dash, the inputs and outputs of our application are simply the properties of a particular component. \n",
    "In this example, our input is the \"value\" property of the component that has the ID \"my-id\". \n",
    "Our output is the \"children\" property of the component with the ID \"my-div\".\n"
   ]
  },
  {
   "cell_type": "code",
   "execution_count": null,
   "id": "d5807bb3",
   "metadata": {},
   "outputs": [],
   "source": []
  }
 ],
 "metadata": {
  "kernelspec": {
   "display_name": "Python 3 (ipykernel)",
   "language": "python",
   "name": "python3"
  },
  "language_info": {
   "codemirror_mode": {
    "name": "ipython",
    "version": 3
   },
   "file_extension": ".py",
   "mimetype": "text/x-python",
   "name": "python",
   "nbconvert_exporter": "python",
   "pygments_lexer": "ipython3",
   "version": "3.9.12"
  }
 },
 "nbformat": 4,
 "nbformat_minor": 5
}
