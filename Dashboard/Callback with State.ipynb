{
 "cells": [
  {
   "cell_type": "code",
   "execution_count": 1,
   "id": "7b3db113",
   "metadata": {},
   "outputs": [],
   "source": [
    "import dash \n",
    "from dash import html,dcc\n",
    "from dash.dependencies import Input,Output,State"
   ]
  },
  {
   "cell_type": "code",
   "execution_count": 2,
   "id": "bfba9916",
   "metadata": {},
   "outputs": [],
   "source": [
    "app=dash.Dash()"
   ]
  },
  {
   "cell_type": "code",
   "execution_count": 3,
   "id": "5de8c39e",
   "metadata": {},
   "outputs": [],
   "source": [
    "app.layout = html.Div([\n",
    "    dcc.Input(\n",
    "        id='number-in',\n",
    "        value='GFG',\n",
    "        style={'fontSize':28}\n",
    "    ),\n",
    "    html.Button(\n",
    "        id='submit-button',\n",
    "        n_clicks=0,\n",
    "        children='Submit',\n",
    "        style={'fontSize':28}\n",
    "    ),\n",
    "    html.H1(id='number-out')\n",
    "])\n",
    "\n"
   ]
  },
  {
   "cell_type": "code",
   "execution_count": null,
   "id": "b1e950ea",
   "metadata": {},
   "outputs": [
    {
     "name": "stdout",
     "output_type": "stream",
     "text": [
      "Dash is running on http://127.0.0.1:8050/\n",
      "\n",
      " * Serving Flask app \"__main__\" (lazy loading)\n",
      " * Environment: production\n",
      "\u001b[31m   WARNING: This is a development server. Do not use it in a production deployment.\u001b[0m\n",
      "\u001b[2m   Use a production WSGI server instead.\u001b[0m\n",
      " * Debug mode: off\n"
     ]
    },
    {
     "name": "stderr",
     "output_type": "stream",
     "text": [
      " * Running on http://127.0.0.1:8050/ (Press CTRL+C to quit)\n",
      "127.0.0.1 - - [11/Oct/2022 17:58:35] \"GET / HTTP/1.1\" 200 -\n",
      "127.0.0.1 - - [11/Oct/2022 17:58:35] \"GET /_dash-component-suites/dash/dcc/async-graph.js HTTP/1.1\" 304 -\n",
      "127.0.0.1 - - [11/Oct/2022 17:58:35] \"GET /_dash-component-suites/dash/dcc/async-plotlyjs.js HTTP/1.1\" 304 -\n",
      "127.0.0.1 - - [11/Oct/2022 17:58:35] \"GET /_dash-layout HTTP/1.1\" 200 -\n",
      "127.0.0.1 - - [11/Oct/2022 17:58:35] \"GET /_dash-dependencies HTTP/1.1\" 200 -\n",
      "127.0.0.1 - - [11/Oct/2022 17:58:35] \"POST /_dash-update-component HTTP/1.1\" 200 -\n",
      "127.0.0.1 - - [11/Oct/2022 18:00:54] \"POST /_dash-update-component HTTP/1.1\" 200 -\n",
      "127.0.0.1 - - [11/Oct/2022 18:01:01] \"POST /_dash-update-component HTTP/1.1\" 200 -\n"
     ]
    },
    {
     "name": "stdout",
     "output_type": "stream",
     "text": [
      "Exception on /_dash-update-component [POST]\n",
      "Traceback (most recent call last):\n",
      "  File \"/Users/eshantdas/Desktop/anaconda3/lib/python3.9/site-packages/dash/dash.py\", line 1208, in dispatch\n",
      "    cb = self.callback_map[output]\n",
      "KeyError: 'pie-graph.figure'\n",
      "\n",
      "The above exception was the direct cause of the following exception:\n",
      "\n",
      "Traceback (most recent call last):\n",
      "  File \"/Users/eshantdas/Desktop/anaconda3/lib/python3.9/site-packages/flask/app.py\", line 2447, in wsgi_app\n",
      "    response = self.full_dispatch_request()\n",
      "  File \"/Users/eshantdas/Desktop/anaconda3/lib/python3.9/site-packages/flask/app.py\", line 1952, in full_dispatch_request\n",
      "    rv = self.handle_user_exception(e)\n",
      "  File \"/Users/eshantdas/Desktop/anaconda3/lib/python3.9/site-packages/flask/app.py\", line 1821, in handle_user_exception\n",
      "    reraise(exc_type, exc_value, tb)\n",
      "  File \"/Users/eshantdas/Desktop/anaconda3/lib/python3.9/site-packages/flask/_compat.py\", line 39, in reraise\n",
      "    raise value\n",
      "  File \"/Users/eshantdas/Desktop/anaconda3/lib/python3.9/site-packages/flask/app.py\", line 1950, in full_dispatch_request\n",
      "    rv = self.dispatch_request()\n",
      "  File \"/Users/eshantdas/Desktop/anaconda3/lib/python3.9/site-packages/flask/app.py\", line 1936, in dispatch_request\n",
      "    return self.view_functions[rule.endpoint](**req.view_args)\n",
      "  File \"/Users/eshantdas/Desktop/anaconda3/lib/python3.9/site-packages/dash/dash.py\", line 1257, in dispatch\n",
      "    raise KeyError(msg) from missing_callback_function\n",
      "KeyError: \"Callback function not found for output 'pie-graph.figure', perhaps you forgot to prepend the '@'?\"\n"
     ]
    },
    {
     "name": "stderr",
     "output_type": "stream",
     "text": [
      "127.0.0.1 - - [11/Oct/2022 18:01:07] \"POST /_dash-update-component HTTP/1.1\" 500 -\n"
     ]
    }
   ],
   "source": [
    "\n",
    "@app.callback(\n",
    "    Output('number-out', 'children'),\n",
    "    [Input('submit-button', 'n_clicks')],\n",
    "    [State('number-in', 'value')])\n",
    "def output(n_clicks, number):\n",
    "    return number\n",
    "\n",
    "if __name__ == '__main__':\n",
    "    app.run_server()"
   ]
  },
  {
   "cell_type": "code",
   "execution_count": null,
   "id": "16a63c53",
   "metadata": {},
   "outputs": [],
   "source": []
  },
  {
   "cell_type": "markdown",
   "id": "f31d1a58",
   "metadata": {},
   "source": [
    "## <font color='green'> Points to Note</font>"
   ]
  },
  {
   "cell_type": "markdown",
   "id": "f2850ade",
   "metadata": {},
   "source": [
    "- You can hold onto input data using dash.dependencies.State, and have it submitted on demand using a Button or other html element.\n"
   ]
  },
  {
   "cell_type": "code",
   "execution_count": null,
   "id": "8ae950cb",
   "metadata": {},
   "outputs": [],
   "source": []
  }
 ],
 "metadata": {
  "kernelspec": {
   "display_name": "Python 3 (ipykernel)",
   "language": "python",
   "name": "python3"
  },
  "language_info": {
   "codemirror_mode": {
    "name": "ipython",
    "version": 3
   },
   "file_extension": ".py",
   "mimetype": "text/x-python",
   "name": "python",
   "nbconvert_exporter": "python",
   "pygments_lexer": "ipython3",
   "version": "3.9.12"
  }
 },
 "nbformat": 4,
 "nbformat_minor": 5
}
