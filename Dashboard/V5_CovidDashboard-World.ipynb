{
 "cells": [
  {
   "cell_type": "markdown",
   "metadata": {},
   "source": [
    "# <font color='#A7F432'><u>Covid19 Dashboard</u></font>"
   ]
  },
  {
   "cell_type": "markdown",
   "metadata": {},
   "source": [
    "### Dependencies"
   ]
  },
  {
   "cell_type": "code",
   "execution_count": 1,
   "metadata": {},
   "outputs": [],
   "source": [
    "#!pip install pandas\n",
    "#!pip install plotly\n",
    "#!pip install dash\n",
    "#!pip install dash_bootstrap_components"
   ]
  },
  {
   "cell_type": "code",
   "execution_count": 2,
   "metadata": {},
   "outputs": [],
   "source": [
    "import pandas as pd\n",
    "import plotly.express as px\n",
    "import plotly.io as pio\n",
    "pio.renderers.default = \"browser\""
   ]
  },
  {
   "cell_type": "code",
   "execution_count": 3,
   "metadata": {},
   "outputs": [
    {
     "name": "stderr",
     "output_type": "stream",
     "text": [
      "/var/folders/4d/gf6xkqsd5tx6m_zltry403dc0000gn/T/ipykernel_6434/3837202660.py:4: UserWarning:\n",
      "\n",
      "\n",
      "The dash_core_components package is deprecated. Please replace\n",
      "`import dash_core_components as dcc` with `from dash import dcc`\n",
      "\n",
      "/var/folders/4d/gf6xkqsd5tx6m_zltry403dc0000gn/T/ipykernel_6434/3837202660.py:5: UserWarning:\n",
      "\n",
      "\n",
      "The dash_html_components package is deprecated. Please replace\n",
      "`import dash_html_components as html` with `from dash import html`\n",
      "\n"
     ]
    }
   ],
   "source": [
    "import dash\n",
    "from markupsafe import escape\n",
    "from dash.dependencies import Input, Output\n",
    "import dash_core_components as dcc\n",
    "import dash_html_components as html\n",
    "import dash_bootstrap_components as dbc"
   ]
  },
  {
   "cell_type": "markdown",
   "metadata": {},
   "source": [
    "### Get Data"
   ]
  },
  {
   "cell_type": "code",
   "execution_count": 4,
   "metadata": {},
   "outputs": [],
   "source": [
    "CONF_URL = 'https://raw.githubusercontent.com/CSSEGISandData/COVID-19/master/csse_covid_19_data/csse_covid_19_time_series/time_series_covid19_confirmed_global.csv'\n",
    "DEAD_URL = 'https://raw.githubusercontent.com/CSSEGISandData/COVID-19/master/csse_covid_19_data/csse_covid_19_time_series/time_series_covid19_deaths_global.csv'\n",
    "RECV_URL = 'https://raw.githubusercontent.com/CSSEGISandData/COVID-19/master/csse_covid_19_data/csse_covid_19_time_series/time_series_covid19_recovered_global.csv'"
   ]
  },
  {
   "cell_type": "code",
   "execution_count": 5,
   "metadata": {},
   "outputs": [],
   "source": [
    "covid_conf_ts = pd.read_csv(CONF_URL)\n",
    "covid_dead_ts = pd.read_csv(DEAD_URL)\n",
    "covid_recv_ts = pd.read_csv(RECV_URL)"
   ]
  },
  {
   "cell_type": "markdown",
   "metadata": {},
   "source": [
    "### Data Processing"
   ]
  },
  {
   "cell_type": "code",
   "execution_count": 6,
   "metadata": {},
   "outputs": [],
   "source": [
    "#get data in cleaned time series format for country\n",
    "def process_data(data,cntry='US',window=3):\n",
    "    conf_ts = data\n",
    "    conf_ts_cntry = conf_ts[conf_ts['Country/Region']==cntry]\n",
    "    final_dataset = conf_ts_cntry.T[4:].sum(axis='columns').diff().rolling(window=window).mean()[40:]\n",
    "    df = pd.DataFrame(final_dataset,columns=['Total'])\n",
    "    return df"
   ]
  },
  {
   "cell_type": "code",
   "execution_count": 7,
   "metadata": {},
   "outputs": [
    {
     "name": "stdout",
     "output_type": "stream",
     "text": [
      "Overall Confirmed: 626309894\n",
      "Overall Dead: 6573040\n",
      "Overall Recovered: 0\n"
     ]
    }
   ],
   "source": [
    "#get overall wordlwide total for confirmed, recovered and dead cases\n",
    "def get_overall_total(df):\n",
    "    return df.iloc[:,-1].sum()\n",
    "\n",
    "conf_overall_total = get_overall_total(covid_conf_ts)\n",
    "dead_overall_total = get_overall_total(covid_dead_ts)\n",
    "recv_overall_total = get_overall_total(covid_recv_ts)\n",
    "print('Overall Confirmed:',conf_overall_total)\n",
    "print('Overall Dead:',dead_overall_total)\n",
    "print('Overall Recovered:',recv_overall_total)"
   ]
  },
  {
   "cell_type": "code",
   "execution_count": 8,
   "metadata": {},
   "outputs": [
    {
     "name": "stdout",
     "output_type": "stream",
     "text": [
      "US Confirmed: 97083662\n",
      "US Dead: 1066584\n",
      "US Recovered: 0\n"
     ]
    }
   ],
   "source": [
    "#get total for confirmed, recovered and dead for country \n",
    "def get_cntry_total(df,cntry='US'):\n",
    "    return df[df['Country/Region']==cntry].iloc[:,-1].sum()\n",
    "\n",
    "cntry = 'US'\n",
    "conf_cntry_total = get_cntry_total(covid_conf_ts,cntry)\n",
    "dead_cntry_total = get_cntry_total(covid_dead_ts,cntry)\n",
    "recv_cntry_total = get_cntry_total(covid_recv_ts,cntry)\n",
    "print(f'{cntry} Confirmed:',conf_cntry_total)\n",
    "print(f'{cntry} Dead:',dead_cntry_total)\n",
    "print(f'{cntry} Recovered:',recv_cntry_total)"
   ]
  },
  {
   "cell_type": "markdown",
   "metadata": {},
   "source": [
    "### Generate Line Graph using Plotly"
   ]
  },
  {
   "cell_type": "code",
   "execution_count": 9,
   "metadata": {},
   "outputs": [],
   "source": [
    "def fig_world_trend(cntry='US',window=3):\n",
    "    df = process_data(data=covid_conf_ts,cntry=cntry,window=window)\n",
    "    df.head(10)\n",
    "    if window==1:\n",
    "        yaxis_title = \"Daily Cases\"\n",
    "    else:\n",
    "        yaxis_title = \"Daily Cases ({}-day MA)\".format(window)\n",
    "    fig = px.line(df, y='Total', x=df.index, title='Daily confirmed cases trend for {}'.format(cntry),height=600,color_discrete_sequence =['maroon'])\n",
    "    fig.update_layout(title_x=0.5,plot_bgcolor='#F2DFCE',paper_bgcolor='#F2DFCE',xaxis_title=\"Date\",yaxis_title=yaxis_title)\n",
    "    return fig"
   ]
  },
  {
   "cell_type": "markdown",
   "metadata": {},
   "source": [
    "## **<font color='#FF00CC'><u>DASH APP</u></font>**"
   ]
  },
  {
   "cell_type": "code",
   "execution_count": 10,
   "metadata": {},
   "outputs": [],
   "source": [
    "external_stylesheets = [dbc.themes.BOOTSTRAP]"
   ]
  },
  {
   "cell_type": "code",
   "execution_count": 11,
   "metadata": {},
   "outputs": [],
   "source": [
    "app = dash.Dash(__name__, external_stylesheets=external_stylesheets)\n",
    "app.title = 'Covid-19 Dashboard'"
   ]
  },
  {
   "cell_type": "markdown",
   "metadata": {},
   "source": [
    "### Page Header"
   ]
  },
  {
   "cell_type": "code",
   "execution_count": 12,
   "metadata": {},
   "outputs": [],
   "source": [
    "colors = {\n",
    "    'background': '#111111',\n",
    "    'bodyColor':'#F2DFCE',\n",
    "    'text': '#7FDBFF'\n",
    "}\n",
    "def get_page_heading_style():\n",
    "    return {'backgroundColor': colors['background']}\n",
    "\n",
    "\n",
    "def get_page_heading_title():\n",
    "    return html.H1(children='COVID-19 Dashboard',\n",
    "                                        style={\n",
    "                                        'textAlign': 'center',\n",
    "                                        'color': colors['text']\n",
    "                                    })\n",
    "\n",
    "def get_page_heading_subtitle():\n",
    "    return html.Div(children='Visualize Covid-19 data generated from sources all over the world.',\n",
    "                                         style={\n",
    "                                             'textAlign':'center',\n",
    "                                             'color':colors['text']\n",
    "                                         })\n",
    "\n",
    "def generate_page_header():\n",
    "    main_header =  dbc.Row(\n",
    "                            [\n",
    "                                dbc.Col(get_page_heading_title(),md=12)\n",
    "                            ],\n",
    "                            align=\"center\",\n",
    "                            style=get_page_heading_style()\n",
    "                        )\n",
    "    subtitle_header = dbc.Row(\n",
    "                            [\n",
    "                                dbc.Col(get_page_heading_subtitle(),md=12)\n",
    "                            ],\n",
    "                            align=\"center\",\n",
    "                            style=get_page_heading_style()\n",
    "                        )\n",
    "    header = (main_header,subtitle_header)\n",
    "    return header"
   ]
  },
  {
   "cell_type": "markdown",
   "metadata": {},
   "source": [
    "### Select Country dropdown"
   ]
  },
  {
   "cell_type": "code",
   "execution_count": 13,
   "metadata": {},
   "outputs": [],
   "source": [
    "def get_country_list():\n",
    "    return covid_conf_ts['Country/Region'].unique()\n",
    "\n",
    "def create_dropdown_list(cntry_list):\n",
    "    dropdown_list = []\n",
    "    for cntry in sorted(cntry_list):\n",
    "        tmp_dict = {'label':cntry,'value':cntry}\n",
    "        dropdown_list.append(tmp_dict)\n",
    "    return dropdown_list\n",
    "\n",
    "def get_country_dropdown(id):\n",
    "    return html.Div([\n",
    "                        html.Label('Select Country'),\n",
    "                        dcc.Dropdown(id='my-id'+str(id),\n",
    "                            options=create_dropdown_list(get_country_list()),\n",
    "                            value='US'\n",
    "                        ),\n",
    "                        html.Div(id='my-div'+str(id))\n",
    "                    ])"
   ]
  },
  {
   "cell_type": "markdown",
   "metadata": {},
   "source": [
    "### Graph Container for DASH"
   ]
  },
  {
   "cell_type": "code",
   "execution_count": 14,
   "metadata": {},
   "outputs": [],
   "source": [
    "def graph1():\n",
    "    return dcc.Graph(id='graph1',figure=fig_world_trend('US'))"
   ]
  },
  {
   "cell_type": "markdown",
   "metadata": {},
   "source": [
    "### Generate CARDS for overall numbers"
   ]
  },
  {
   "cell_type": "code",
   "execution_count": 15,
   "metadata": {},
   "outputs": [],
   "source": [
    "def generate_card_content(card_header,card_value,overall_value):\n",
    "    card_head_style = {'textAlign':'center','fontSize':'150%'}\n",
    "    card_body_style = {'textAlign':'center','fontSize':'200%'}\n",
    "    card_header = dbc.CardHeader(card_header,style=card_head_style)\n",
    "    card_body = dbc.CardBody(\n",
    "        [\n",
    "            html.H5(f\"{int(card_value):,}\", className=\"card-title\",style=card_body_style),\n",
    "            html.P(\n",
    "                \"Worlwide: {:,}\".format(overall_value),\n",
    "                className=\"card-text\",style={'textAlign':'center'}\n",
    "            ),\n",
    "        ]\n",
    "    )\n",
    "    card = [card_header,card_body]\n",
    "    return card"
   ]
  },
  {
   "cell_type": "code",
   "execution_count": 16,
   "metadata": {},
   "outputs": [],
   "source": [
    "def generate_cards(cntry='US'):\n",
    "    conf_cntry_total = get_cntry_total(covid_conf_ts,cntry)\n",
    "    dead_cntry_total = get_cntry_total(covid_dead_ts,cntry)\n",
    "    recv_cntry_total = get_cntry_total(covid_recv_ts,cntry)\n",
    "    cards = html.Div(\n",
    "        [\n",
    "            dbc.Row(\n",
    "                [\n",
    "                    dbc.Col(dbc.Card(generate_card_content(\"Recovered\",recv_cntry_total,recv_overall_total), color=\"success\", inverse=True),md=dict(size=2,offset=3)),\n",
    "                    dbc.Col(dbc.Card(generate_card_content(\"Confirmed\",conf_cntry_total,conf_overall_total), color=\"warning\", inverse=True),md=dict(size=2)),\n",
    "                    dbc.Col(dbc.Card(generate_card_content(\"Dead\",dead_cntry_total,dead_overall_total),color=\"dark\", inverse=True),md=dict(size=2)),\n",
    "                ],\n",
    "                className=\"mb-4\",\n",
    "            ),\n",
    "        ],id='card1'\n",
    "    )\n",
    "    return cards"
   ]
  },
  {
   "cell_type": "markdown",
   "metadata": {},
   "source": [
    "### DASH Slider for Moving Average Window"
   ]
  },
  {
   "cell_type": "code",
   "execution_count": 17,
   "metadata": {},
   "outputs": [],
   "source": [
    "def get_slider():\n",
    "    return html.Div([  \n",
    "                        dcc.Slider(\n",
    "                            id='my-slider',\n",
    "                            min=1,\n",
    "                            max=15,\n",
    "                            step=None,\n",
    "                            marks={\n",
    "                                1: '1',\n",
    "                                3: '3',\n",
    "                                5: '5',\n",
    "                                7: '1-Week',\n",
    "                                14: 'Fortnight'\n",
    "                            },\n",
    "                            value=3,\n",
    "                        ),\n",
    "                        html.Div([html.Label('Select Moving Average Window')],id='my-div'+str(id),style={'textAlign':'center'})\n",
    "                    ])"
   ]
  },
  {
   "cell_type": "markdown",
   "metadata": {},
   "source": [
    "### Generate APP layout"
   ]
  },
  {
   "cell_type": "code",
   "execution_count": 18,
   "metadata": {},
   "outputs": [],
   "source": [
    "def generate_layout():\n",
    "    page_header = generate_page_header()\n",
    "    layout = dbc.Container(\n",
    "        [\n",
    "            page_header[0],\n",
    "            page_header[1],\n",
    "            html.Hr(),\n",
    "            generate_cards(),\n",
    "            html.Hr(),\n",
    "            dbc.Row(\n",
    "                [\n",
    "                    dbc.Col(get_country_dropdown(id=1),md=dict(size=4,offset=4))                    \n",
    "                ]\n",
    "            \n",
    "            ),\n",
    "            dbc.Row(\n",
    "                [                \n",
    "                    \n",
    "                    dbc.Col(graph1(),md=dict(size=6,offset=3))\n",
    "        \n",
    "                ],\n",
    "                align=\"center\",\n",
    "\n",
    "            ),\n",
    "            dbc.Row(\n",
    "                [\n",
    "                    dbc.Col(get_slider(),md=dict(size=4,offset=4))                    \n",
    "                ]\n",
    "            \n",
    "            ),\n",
    "        ],fluid=True,style={'backgroundColor': colors['bodyColor']}\n",
    "    )\n",
    "    return layout"
   ]
  },
  {
   "cell_type": "code",
   "execution_count": 19,
   "metadata": {},
   "outputs": [],
   "source": [
    "app.layout = generate_layout()"
   ]
  },
  {
   "cell_type": "markdown",
   "metadata": {},
   "source": [
    "### Assign DASH Callbacks"
   ]
  },
  {
   "cell_type": "code",
   "execution_count": 20,
   "metadata": {},
   "outputs": [],
   "source": [
    "@app.callback(\n",
    "    [Output(component_id='graph1',component_property='figure'), #line chart\n",
    "    Output(component_id='card1',component_property='children')], #overall card numbers\n",
    "    [Input(component_id='my-id1',component_property='value'), #dropdown\n",
    "     Input(component_id='my-slider',component_property='value')] #slider\n",
    ")\n",
    "def update_output_div(input_value1,input_value2):\n",
    "    return fig_world_trend(input_value1,input_value2),generate_cards(input_value1)"
   ]
  },
  {
   "cell_type": "markdown",
   "metadata": {},
   "source": [
    "## RUN the app server"
   ]
  },
  {
   "cell_type": "code",
   "execution_count": null,
   "metadata": {},
   "outputs": [
    {
     "name": "stdout",
     "output_type": "stream",
     "text": [
      "Dash is running on http://127.0.0.1:8050/\n",
      "\n",
      " * Serving Flask app '__main__'\n",
      " * Debug mode: off\n"
     ]
    },
    {
     "name": "stderr",
     "output_type": "stream",
     "text": [
      "WARNING: This is a development server. Do not use it in a production deployment. Use a production WSGI server instead.\n",
      " * Running on http://127.0.0.1:8050\n",
      "Press CTRL+C to quit\n",
      "127.0.0.1 - - [20/Oct/2022 18:02:15] \"GET / HTTP/1.1\" 200 -\n",
      "127.0.0.1 - - [20/Oct/2022 18:02:15] \"GET /_dash-component-suites/dash/dcc/async-graph.js HTTP/1.1\" 304 -\n",
      "127.0.0.1 - - [20/Oct/2022 18:02:15] \"GET /_dash-component-suites/dash/dcc/async-dropdown.js HTTP/1.1\" 304 -\n",
      "127.0.0.1 - - [20/Oct/2022 18:02:15] \"GET /_dash-component-suites/dash/dcc/async-plotlyjs.js HTTP/1.1\" 304 -\n",
      "127.0.0.1 - - [20/Oct/2022 18:02:15] \"GET /_dash-dependencies HTTP/1.1\" 200 -\n",
      "127.0.0.1 - - [20/Oct/2022 18:02:15] \"GET /_dash-layout HTTP/1.1\" 200 -\n",
      "127.0.0.1 - - [20/Oct/2022 18:02:15] \"GET /_dash-component-suites/dash/dcc/async-slider.js HTTP/1.1\" 304 -\n",
      "127.0.0.1 - - [20/Oct/2022 18:02:15] \"POST /_dash-update-component HTTP/1.1\" 200 -\n",
      "127.0.0.1 - - [20/Oct/2022 18:02:22] \"POST /_dash-update-component HTTP/1.1\" 200 -\n",
      "127.0.0.1 - - [20/Oct/2022 18:02:26] \"POST /_dash-update-component HTTP/1.1\" 200 -\n"
     ]
    }
   ],
   "source": [
    "if __name__ == '__main__':\n",
    "    app.run_server()\n"
   ]
  }
 ],
 "metadata": {
  "kernelspec": {
   "display_name": "Python 3 (ipykernel)",
   "language": "python",
   "name": "python3"
  },
  "language_info": {
   "codemirror_mode": {
    "name": "ipython",
    "version": 3
   },
   "file_extension": ".py",
   "mimetype": "text/x-python",
   "name": "python",
   "nbconvert_exporter": "python",
   "pygments_lexer": "ipython3",
   "version": "3.9.12"
  }
 },
 "nbformat": 4,
 "nbformat_minor": 4
}
