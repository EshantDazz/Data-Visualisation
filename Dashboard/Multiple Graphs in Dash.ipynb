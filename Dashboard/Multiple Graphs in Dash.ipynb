{
 "cells": [
  {
   "cell_type": "code",
   "execution_count": 1,
   "id": "88d1b7ee",
   "metadata": {},
   "outputs": [],
   "source": [
    "import dash \n",
    "from dash import html,dcc\n",
    "from dash.dependencies import Output, Input\n",
    "import plotly.express as px\n",
    "import pandas as pd"
   ]
  },
  {
   "cell_type": "code",
   "execution_count": null,
   "id": "2175d2f9",
   "metadata": {},
   "outputs": [
    {
     "name": "stdout",
     "output_type": "stream",
     "text": [
      "Dash is running on http://127.0.0.1:8050/\n",
      "\n",
      " * Serving Flask app \"__main__\" (lazy loading)\n",
      " * Environment: production\n",
      "\u001b[31m   WARNING: This is a development server. Do not use it in a production deployment.\u001b[0m\n",
      "\u001b[2m   Use a production WSGI server instead.\u001b[0m\n",
      " * Debug mode: off\n"
     ]
    },
    {
     "name": "stderr",
     "output_type": "stream",
     "text": [
      "/var/folders/4d/gf6xkqsd5tx6m_zltry403dc0000gn/T/ipykernel_1496/4104366894.py:2: UserWarning: \n",
      "The dash_core_components package is deprecated. Please replace\n",
      "`import dash_core_components as dcc` with `from dash import dcc`\n",
      "  import dash_core_components as dcc\n",
      "/var/folders/4d/gf6xkqsd5tx6m_zltry403dc0000gn/T/ipykernel_1496/4104366894.py:3: UserWarning: \n",
      "The dash_html_components package is deprecated. Please replace\n",
      "`import dash_html_components as html` with `from dash import html`\n",
      "  import dash_html_components as html\n",
      " * Running on http://127.0.0.1:8050/ (Press CTRL+C to quit)\n",
      "127.0.0.1 - - [11/Oct/2022 17:11:17] \"GET / HTTP/1.1\" 200 -\n",
      "127.0.0.1 - - [11/Oct/2022 17:11:19] \"GET /_dash-layout HTTP/1.1\" 200 -\n",
      "127.0.0.1 - - [11/Oct/2022 17:11:19] \"GET /_dash-dependencies HTTP/1.1\" 200 -\n",
      "127.0.0.1 - - [11/Oct/2022 17:11:19] \"GET /_dash-component-suites/dash/dcc/async-graph.js HTTP/1.1\" 304 -\n",
      "127.0.0.1 - - [11/Oct/2022 17:11:19] \"GET /_dash-component-suites/dash/dcc/async-dropdown.js HTTP/1.1\" 304 -\n",
      "127.0.0.1 - - [11/Oct/2022 17:11:19] \"GET /_dash-component-suites/dash/dcc/async-plotlyjs.js HTTP/1.1\" 304 -\n"
     ]
    },
    {
     "name": "stdout",
     "output_type": "stream",
     "text": [
      "     country continent  year  lifeExp       pop    gdpPercap iso_alpha  \\\n",
      "168   Brazil  Americas  1952   50.917  56602560  2108.944355       BRA   \n",
      "564  Germany    Europe  1952   67.500  69145952  7144.114393       DEU   \n",
      "\n",
      "     iso_num  \n",
      "168       76  \n",
      "564      276  \n"
     ]
    },
    {
     "name": "stderr",
     "output_type": "stream",
     "text": [
      "127.0.0.1 - - [11/Oct/2022 17:11:19] \"POST /_dash-update-component HTTP/1.1\" 200 -\n",
      "127.0.0.1 - - [11/Oct/2022 17:11:19] \"POST /_dash-update-component HTTP/1.1\" 200 -\n",
      "127.0.0.1 - - [11/Oct/2022 17:11:20] \"POST /_dash-update-component HTTP/1.1\" 200 -\n"
     ]
    },
    {
     "name": "stdout",
     "output_type": "stream",
     "text": [
      "hover data: {'points': [{'curveNumber': 1, 'pointNumber': 3, 'pointIndex': 3, 'x': 1967, 'y': 14745.62561, 'bbox': {'x0': 795.1800000000001, 'x1': 801.1800000000001, 'y0': 277.62, 'y1': 283.62}, 'customdata': ['Germany', 'Europe', 70.8, 76368453]}]}\n"
     ]
    }
   ],
   "source": [
    "import dash  # use Dash version 1.16.0 or higher for this app to work\n",
    "import dash_core_components as dcc\n",
    "import dash_html_components as html\n",
    "from dash.dependencies import Output, Input\n",
    "import plotly.express as px\n",
    "\n",
    "df = px.data.gapminder()\n",
    "\n",
    "external_stylesheets = ['https://codepen.io/chriddyp/pen/bWLwgP.css']\n",
    "app = dash.Dash(__name__, external_stylesheets=external_stylesheets)\n",
    "\n",
    "app.layout = html.Div([\n",
    "    dcc.Dropdown(id='dpdn2', value=['Germany','Brazil'], multi=True,\n",
    "                 options=[{'label': x, 'value': x} for x in\n",
    "                          df.country.unique()]),\n",
    "    html.Div([\n",
    "        dcc.Graph(id='pie-graph', figure={}, className='six columns'),\n",
    "        dcc.Graph(id='my-graph', figure={}, clickData=None, hoverData=None, # I assigned None for tutorial purposes. By defualt, these are None, unless you specify otherwise.\n",
    "                  config={\n",
    "                      'staticPlot': False,     # True, False\n",
    "                      'scrollZoom': True,      # True, False\n",
    "                      'doubleClick': 'reset',  # 'reset', 'autosize' or 'reset+autosize', False\n",
    "                      'showTips': False,       # True, False\n",
    "                      'displayModeBar': True,  # True, False, 'hover'\n",
    "                      'watermark': True,\n",
    "                      # 'modeBarButtonsToRemove': ['pan2d','select2d'],\n",
    "                        },\n",
    "                  className='six columns'\n",
    "                  )\n",
    "    ])\n",
    "])\n",
    "\n",
    "\n",
    "@app.callback(\n",
    "    Output(component_id='my-graph', component_property='figure'),\n",
    "    Input(component_id='dpdn2', component_property='value'),\n",
    ")\n",
    "def update_graph(country_chosen):\n",
    "    dff = df[df.country.isin(country_chosen)]\n",
    "    fig = px.line(data_frame=dff, x='year', y='gdpPercap', color='country',\n",
    "                  custom_data=['country', 'continent', 'lifeExp', 'pop'])\n",
    "    fig.update_traces(mode='lines+markers')\n",
    "    return fig\n",
    "\n",
    "\n",
    "# Dash version 1.16.0 or higher\n",
    "@app.callback(\n",
    "    Output(component_id='pie-graph', component_property='figure'),\n",
    "    Input(component_id='my-graph', component_property='hoverData'),\n",
    "    Input(component_id='my-graph', component_property='clickData'),\n",
    "    Input(component_id='my-graph', component_property='selectedData'),\n",
    "    Input(component_id='dpdn2', component_property='value')\n",
    ")\n",
    "def update_side_graph(hov_data, clk_data, slct_data, country_chosen):\n",
    "    if hov_data is None:\n",
    "        dff2 = df[df.country.isin(country_chosen)]\n",
    "        dff2 = dff2[dff2.year == 1952]\n",
    "        print(dff2)\n",
    "        fig2 = px.pie(data_frame=dff2, values='pop', names='country',\n",
    "                      title='Population for 1952')\n",
    "        return fig2\n",
    "    else:\n",
    "        print(f'hover data: {hov_data}')\n",
    "        # print(hov_data['points'][0]['customdata'][0])\n",
    "        # print(f'click data: {clk_data}')\n",
    "        # print(f'selected data: {slct_data}')\n",
    "        dff2 = df[df.country.isin(country_chosen)]\n",
    "        hov_year = hov_data['points'][0]['x']\n",
    "        dff2 = dff2[dff2.year == hov_year]\n",
    "        fig2 = px.pie(data_frame=dff2, values='pop', names='country', title=f'Population for: {hov_year}')\n",
    "        return fig2\n",
    "\n",
    "\n",
    "if __name__ == '__main__':\n",
    "    app.run_server()\n",
    "    \n",
    "    "
   ]
  },
  {
   "cell_type": "code",
   "execution_count": null,
   "id": "f670e669",
   "metadata": {},
   "outputs": [],
   "source": []
  }
 ],
 "metadata": {
  "kernelspec": {
   "display_name": "Python 3 (ipykernel)",
   "language": "python",
   "name": "python3"
  },
  "language_info": {
   "codemirror_mode": {
    "name": "ipython",
    "version": 3
   },
   "file_extension": ".py",
   "mimetype": "text/x-python",
   "name": "python",
   "nbconvert_exporter": "python",
   "pygments_lexer": "ipython3",
   "version": "3.9.12"
  }
 },
 "nbformat": 4,
 "nbformat_minor": 5
}
